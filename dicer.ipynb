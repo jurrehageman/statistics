{
 "cells": [
  {
   "cell_type": "markdown",
   "id": "12b5110d",
   "metadata": {
    "slideshow": {
     "slide_type": "slide"
    }
   },
   "source": [
    "# Simulatie dobbelen"
   ]
  },
  {
   "cell_type": "markdown",
   "id": "1a2d94c0",
   "metadata": {
    "slideshow": {
     "slide_type": "fragment"
    }
   },
   "source": [
    "<div>\n",
    "<img src=\"dice.jpg\" width=\"500\"/>\n",
    "</div>"
   ]
  },
  {
   "cell_type": "markdown",
   "id": "a236f8d0",
   "metadata": {
    "slideshow": {
     "slide_type": "slide"
    }
   },
   "source": [
    "## Steekproef versus populatie"
   ]
  },
  {
   "cell_type": "markdown",
   "id": "ac4605b9",
   "metadata": {
    "slideshow": {
     "slide_type": "fragment"
    }
   },
   "source": [
    "### Opzet:\n",
    "- Gooi n maal met een dobbelsteen.\n",
    "- Bereken het gemiddelde en de standaarddeviatie.\n",
    "- Doe dit voor n=2, n=4, n=8, n=16 etc."
   ]
  },
  {
   "cell_type": "code",
   "execution_count": 1,
   "id": "39405567",
   "metadata": {},
   "outputs": [
    {
     "data": {
      "text/html": [
       "<script>\n",
       "code_show=true; \n",
       "function code_toggle() {\n",
       " if (code_show){\n",
       " $('div.input').hide();\n",
       " } else {\n",
       " $('div.input').show();\n",
       " }\n",
       " code_show = !code_show\n",
       "} \n",
       "$( document ).ready(code_toggle);\n",
       "</script>\n",
       "Opmerking: De code van dit notebook heb ik bewust verborgen om het leesbaarder te maken.\n",
       "Als je de code toch wil zien klik dan <a href=\"javascript:code_toggle()\">hier</a>."
      ],
      "text/plain": [
       "<IPython.core.display.HTML object>"
      ]
     },
     "execution_count": 1,
     "metadata": {},
     "output_type": "execute_result"
    }
   ],
   "source": [
    "from IPython.display import HTML\n",
    "HTML('''<script>\n",
    "code_show=true; \n",
    "function code_toggle() {\n",
    " if (code_show){\n",
    " $('div.input').hide();\n",
    " } else {\n",
    " $('div.input').show();\n",
    " }\n",
    " code_show = !code_show\n",
    "} \n",
    "$( document ).ready(code_toggle);\n",
    "</script>\n",
    "Opmerking: De code van dit notebook heb ik bewust verborgen om het leesbaarder te maken.\n",
    "Als je de code toch wil zien klik dan <a href=\"javascript:code_toggle()\">hier</a>.''')"
   ]
  },
  {
   "cell_type": "code",
   "execution_count": 2,
   "id": "2877e83c",
   "metadata": {
    "slideshow": {
     "slide_type": "slide"
    }
   },
   "outputs": [
    {
     "data": {
      "text/html": [
       "<div>\n",
       "<style scoped>\n",
       "    .dataframe tbody tr th:only-of-type {\n",
       "        vertical-align: middle;\n",
       "    }\n",
       "\n",
       "    .dataframe tbody tr th {\n",
       "        vertical-align: top;\n",
       "    }\n",
       "\n",
       "    .dataframe thead th {\n",
       "        text-align: right;\n",
       "    }\n",
       "</style>\n",
       "<table border=\"1\" class=\"dataframe\">\n",
       "  <thead>\n",
       "    <tr style=\"text-align: right;\">\n",
       "      <th></th>\n",
       "      <th>Worpen</th>\n",
       "      <th>Gemiddelde</th>\n",
       "      <th>Stdev</th>\n",
       "    </tr>\n",
       "  </thead>\n",
       "  <tbody>\n",
       "    <tr>\n",
       "      <th>0</th>\n",
       "      <td>2</td>\n",
       "      <td>5.50</td>\n",
       "      <td>0.71</td>\n",
       "    </tr>\n",
       "    <tr>\n",
       "      <th>1</th>\n",
       "      <td>4</td>\n",
       "      <td>2.25</td>\n",
       "      <td>2.50</td>\n",
       "    </tr>\n",
       "    <tr>\n",
       "      <th>2</th>\n",
       "      <td>8</td>\n",
       "      <td>3.75</td>\n",
       "      <td>1.75</td>\n",
       "    </tr>\n",
       "    <tr>\n",
       "      <th>3</th>\n",
       "      <td>16</td>\n",
       "      <td>3.75</td>\n",
       "      <td>1.98</td>\n",
       "    </tr>\n",
       "    <tr>\n",
       "      <th>4</th>\n",
       "      <td>32</td>\n",
       "      <td>3.03</td>\n",
       "      <td>1.73</td>\n",
       "    </tr>\n",
       "    <tr>\n",
       "      <th>5</th>\n",
       "      <td>64</td>\n",
       "      <td>3.66</td>\n",
       "      <td>1.75</td>\n",
       "    </tr>\n",
       "    <tr>\n",
       "      <th>6</th>\n",
       "      <td>128</td>\n",
       "      <td>3.48</td>\n",
       "      <td>1.59</td>\n",
       "    </tr>\n",
       "    <tr>\n",
       "      <th>7</th>\n",
       "      <td>256</td>\n",
       "      <td>3.45</td>\n",
       "      <td>1.74</td>\n",
       "    </tr>\n",
       "    <tr>\n",
       "      <th>8</th>\n",
       "      <td>512</td>\n",
       "      <td>3.60</td>\n",
       "      <td>1.72</td>\n",
       "    </tr>\n",
       "    <tr>\n",
       "      <th>9</th>\n",
       "      <td>1024</td>\n",
       "      <td>3.50</td>\n",
       "      <td>1.70</td>\n",
       "    </tr>\n",
       "    <tr>\n",
       "      <th>10</th>\n",
       "      <td>2048</td>\n",
       "      <td>3.50</td>\n",
       "      <td>1.75</td>\n",
       "    </tr>\n",
       "    <tr>\n",
       "      <th>11</th>\n",
       "      <td>4096</td>\n",
       "      <td>3.52</td>\n",
       "      <td>1.71</td>\n",
       "    </tr>\n",
       "    <tr>\n",
       "      <th>12</th>\n",
       "      <td>8192</td>\n",
       "      <td>3.50</td>\n",
       "      <td>1.72</td>\n",
       "    </tr>\n",
       "    <tr>\n",
       "      <th>13</th>\n",
       "      <td>16384</td>\n",
       "      <td>3.51</td>\n",
       "      <td>1.71</td>\n",
       "    </tr>\n",
       "    <tr>\n",
       "      <th>14</th>\n",
       "      <td>32768</td>\n",
       "      <td>3.52</td>\n",
       "      <td>1.71</td>\n",
       "    </tr>\n",
       "  </tbody>\n",
       "</table>\n",
       "</div>"
      ],
      "text/plain": [
       "    Worpen  Gemiddelde  Stdev\n",
       "0        2        5.50   0.71\n",
       "1        4        2.25   2.50\n",
       "2        8        3.75   1.75\n",
       "3       16        3.75   1.98\n",
       "4       32        3.03   1.73\n",
       "5       64        3.66   1.75\n",
       "6      128        3.48   1.59\n",
       "7      256        3.45   1.74\n",
       "8      512        3.60   1.72\n",
       "9     1024        3.50   1.70\n",
       "10    2048        3.50   1.75\n",
       "11    4096        3.52   1.71\n",
       "12    8192        3.50   1.72\n",
       "13   16384        3.51   1.71\n",
       "14   32768        3.52   1.71"
      ]
     },
     "metadata": {},
     "output_type": "display_data"
    }
   ],
   "source": [
    "import random\n",
    "import statistics\n",
    "import numpy as np\n",
    "import matplotlib.pyplot as plt\n",
    "import seaborn as sns\n",
    "import pandas as pd\n",
    "from IPython.display import display, HTML\n",
    "\n",
    "ogen = (1, 2, 3, 4, 5, 6)\n",
    "aantal_worpen = [2**i for i in range(1, 16)]\n",
    "\n",
    "def werp_dobbelsteen(aantal_worpen):\n",
    "    verzameling_ogen = []\n",
    "    for i in range(aantal_worpen):\n",
    "        verzameling_ogen.append(random.choice(ogen))\n",
    "    return verzameling_ogen\n",
    "\n",
    "data = []\n",
    "for worpen in aantal_worpen:\n",
    "    resultaat = werp_dobbelsteen(worpen)\n",
    "    mean = round(statistics.mean(resultaat), 2)\n",
    "    stdev = round(statistics.stdev(resultaat), 2)\n",
    "    data.append([worpen, mean, stdev])\n",
    "df = pd.DataFrame(data, columns=[\"Worpen\", \"Gemiddelde\", \"Stdev\"])\n",
    "display(df)"
   ]
  },
  {
   "cell_type": "code",
   "execution_count": 3,
   "id": "a7252876",
   "metadata": {
    "slideshow": {
     "slide_type": "slide"
    }
   },
   "outputs": [
    {
     "data": {
      "image/png": "[encoded data removed]",
      "text/plain": [
       "<Figure size 432x288 with 1 Axes>"
      ]
     },
     "metadata": {
      "needs_background": "light"
     },
     "output_type": "display_data"
    }
   ],
   "source": [
    "sns.barplot(x=df[\"Worpen\"], y=df[\"Gemiddelde\"], color='cyan').set(title='Gemiddelde', xlabel='Aantal worpen', ylabel='Gemiddelde')\n",
    "locs, labels = plt.xticks()\n",
    "plt.setp(labels, rotation=90)\n",
    "plt.show()"
   ]
  },
  {
   "cell_type": "markdown",
   "id": "673cd782",
   "metadata": {
    "slideshow": {
     "slide_type": "slide"
    }
   },
   "source": [
    "### Wat zie gebeuren?  \n",
    "> Naarmate het aantal keren dat je dobbelt groter wordt verschuift het gemiddelde van de steekproef steeds dichter naar het gemiddelde van de populatie (deze waarde is 3,5). Ofwel: $\\overline{y}$ verschuift naar $\\mu$ naarmate $n$ toeneemt."
   ]
  },
  {
   "cell_type": "code",
   "execution_count": 4,
   "id": "e9ef808d",
   "metadata": {
    "slideshow": {
     "slide_type": "slide"
    }
   },
   "outputs": [
    {
     "data": {
      "image/png": "[encoded data removed]",
      "text/plain": [
       "<Figure size 432x288 with 1 Axes>"
      ]
     },
     "metadata": {
      "needs_background": "light"
     },
     "output_type": "display_data"
    }
   ],
   "source": [
    "sns.barplot(x=df[\"Worpen\"], y=df[\"Stdev\"], color='red').set(title='Standaar deviatie', xlabel='Aantal worpen', ylabel='Standaarddeviatie')\n",
    "locs, labels = plt.xticks()\n",
    "plt.setp(labels, rotation=90)\n",
    "plt.show()"
   ]
  },
  {
   "cell_type": "markdown",
   "id": "62859495",
   "metadata": {
    "slideshow": {
     "slide_type": "slide"
    }
   },
   "source": [
    "### Wat zie je gebeuren?\n",
    "> Naarmate het aantal keren dat je dobbelt groter wordt verschuift de standaarddeviatie van de steekproef steeds dichter naar de standaarddeviatie van de populatie (deze waarde is 1,7). Ofwel: $s$ verschuift naar $\\sigma$ naarmate $n$ toeneemt."
   ]
  },
  {
   "cell_type": "markdown",
   "id": "65d02eec",
   "metadata": {
    "slideshow": {
     "slide_type": "slide"
    }
   },
   "source": [
    "## Herhaald 6 keer gooien en het gemiddelde en de standaarddeviatie berekenen."
   ]
  },
  {
   "cell_type": "markdown",
   "id": "b699991e",
   "metadata": {
    "slideshow": {
     "slide_type": "slide"
    }
   },
   "source": [
    "### Opzet:\n",
    "- gooi zesmaal met een dobbelsteen\n",
    "- bereken het gemiddelde\n",
    "- herhaal dit 100, 1000, 10000 en 100000 maal\n",
    "- maak een histogram waarbij de frequentie van het gemiddelde uitgezet wordt tegen de waarde van het gemiddelde."
   ]
  },
  {
   "cell_type": "code",
   "execution_count": 5,
   "id": "2b0aa1c7",
   "metadata": {
    "slideshow": {
     "slide_type": "slide"
    }
   },
   "outputs": [
    {
     "data": {
      "image/png": "[encoded data removed]",
      "text/plain": [
       "<Figure size 360x360 with 1 Axes>"
      ]
     },
     "metadata": {
      "needs_background": "light"
     },
     "output_type": "display_data"
    },
    {
     "data": {
      "image/png": "[encoded data removed]",
      "text/plain": [
       "<Figure size 360x360 with 1 Axes>"
      ]
     },
     "metadata": {
      "needs_background": "light"
     },
     "output_type": "display_data"
    },
    {
     "data": {
      "image/png": "[encoded data removed]",
      "text/plain": [
       "<Figure size 360x360 with 1 Axes>"
      ]
     },
     "metadata": {
      "needs_background": "light"
     },
     "output_type": "display_data"
    },
    {
     "data": {
      "image/png": "[encoded data removed]",
      "text/plain": [
       "<Figure size 360x360 with 1 Axes>"
      ]
     },
     "metadata": {
      "needs_background": "light"
     },
     "output_type": "display_data"
    }
   ],
   "source": [
    "aantal_herhalingen = [100, 1000, 10000, 100000]\n",
    "worpen_per_herhaling = 6\n",
    "for herhalingen in aantal_herhalingen:\n",
    "    gemiddelden = []\n",
    "    for i in range(herhalingen):\n",
    "        worpen = []\n",
    "        for j in range(worpen_per_herhaling):\n",
    "            worp = random.choice(ogen)\n",
    "            worpen.append(worp)\n",
    "        gemiddelden.append(statistics.mean(worpen))\n",
    "\n",
    "    sns.displot(gemiddelden, \n",
    "                color = \"blue\", \n",
    "                bins = 100).set(title=\"aantal herhalingen: {}\".format(herhalingen), \n",
    "                                ylabel=\"aantal\", \n",
    "                                xlabel=\"gemiddelde\")\n",
    "    plt.show()"
   ]
  },
  {
   "cell_type": "markdown",
   "id": "d44471c6",
   "metadata": {
    "slideshow": {
     "slide_type": "slide"
    }
   },
   "source": [
    "### Wat zie gebeuren?  \n",
    "> Naarmate het aantal keren dat je **6 maal dobbelt en het gemiddelde berekent** groter wordt, zie je steeds duidelijker een normaalverdeling ontstaan. Feitelijk is het een binomiaalverdeling maar als $n$ groot wordt dan is de bionomiale verdeling bijna een normaalverdeling."
   ]
  },
  {
   "cell_type": "markdown",
   "id": "87e29d0b",
   "metadata": {
    "slideshow": {
     "slide_type": "slide"
    }
   },
   "source": [
    "The end..."
   ]
  },
  {
   "cell_type": "code",
   "execution_count": 6,
   "id": "f664657b",
   "metadata": {
    "slideshow": {
     "slide_type": "slide"
    }
   },
   "outputs": [
    {
     "name": "stdout",
     "output_type": "stream",
     "text": [
      "[NbConvertApp] Converting notebook dicer.ipynb to html\n",
      "[NbConvertApp] Writing 665631 bytes to dicer.html\n"
     ]
    }
   ],
   "source": [
    "! jupyter nbconvert --to html dicer.ipynb"
   ]
  }
 ],
 "metadata": {
  "celltoolbar": "Tags",
  "kernelspec": {
   "display_name": "Python 3 (ipykernel)",
   "language": "python",
   "name": "python3"
  },
  "language_info": {
   "codemirror_mode": {
    "name": "ipython",
    "version": 3
   },
   "file_extension": ".py",
   "mimetype": "text/x-python",
   "name": "python",
   "nbconvert_exporter": "python",
   "pygments_lexer": "ipython3",
   "version": "3.8.10"
  }
 },
 "nbformat": 4,
 "nbformat_minor": 5
}

{
 "cells": [
  {
   "cell_type": "markdown",
   "id": "8d98c4f7",
   "metadata": {},
   "source": [
    "# Test non-parametric statistics"
   ]
  },
  {
   "cell_type": "code",
   "execution_count": 1,
   "id": "457401b3",
   "metadata": {},
   "outputs": [],
   "source": [
    "from scipy import stats\n",
    "import pandas as pd\n",
    "import matplotlib.pyplot as plt\n",
    "from IPython.display import display\n",
    "import seaborn as sns"
   ]
  },
  {
   "cell_type": "code",
   "execution_count": 2,
   "id": "a7d86cdc",
   "metadata": {},
   "outputs": [],
   "source": [
    "students1 = [7.1, 7.9, 6.3, 7.0, 8.2, 7.2, 6.0, 7.6, 6.9, 7.5]\n",
    "students2 = [5.0, 4.5, 4.0, 5.3, 5.4, 5.9, 4.3, 5.2, 4.0, 4.7]"
   ]
  },
  {
   "cell_type": "code",
   "execution_count": 3,
   "id": "bddc9e39",
   "metadata": {},
   "outputs": [
    {
     "data": {
      "text/html": [
       "<div>\n",
       "<style scoped>\n",
       "    .dataframe tbody tr th:only-of-type {\n",
       "        vertical-align: middle;\n",
       "    }\n",
       "\n",
       "    .dataframe tbody tr th {\n",
       "        vertical-align: top;\n",
       "    }\n",
       "\n",
       "    .dataframe thead th {\n",
       "        text-align: right;\n",
       "    }\n",
       "</style>\n",
       "<table border=\"1\" class=\"dataframe\">\n",
       "  <thead>\n",
       "    <tr style=\"text-align: right;\">\n",
       "      <th></th>\n",
       "      <th>students1</th>\n",
       "      <th>students2</th>\n",
       "    </tr>\n",
       "  </thead>\n",
       "  <tbody>\n",
       "    <tr>\n",
       "      <th>0</th>\n",
       "      <td>7.1</td>\n",
       "      <td>5.0</td>\n",
       "    </tr>\n",
       "    <tr>\n",
       "      <th>1</th>\n",
       "      <td>7.9</td>\n",
       "      <td>4.5</td>\n",
       "    </tr>\n",
       "    <tr>\n",
       "      <th>2</th>\n",
       "      <td>6.3</td>\n",
       "      <td>4.0</td>\n",
       "    </tr>\n",
       "    <tr>\n",
       "      <th>3</th>\n",
       "      <td>7.0</td>\n",
       "      <td>5.3</td>\n",
       "    </tr>\n",
       "    <tr>\n",
       "      <th>4</th>\n",
       "      <td>8.2</td>\n",
       "      <td>5.4</td>\n",
       "    </tr>\n",
       "    <tr>\n",
       "      <th>5</th>\n",
       "      <td>7.2</td>\n",
       "      <td>5.9</td>\n",
       "    </tr>\n",
       "    <tr>\n",
       "      <th>6</th>\n",
       "      <td>6.0</td>\n",
       "      <td>4.3</td>\n",
       "    </tr>\n",
       "    <tr>\n",
       "      <th>7</th>\n",
       "      <td>7.6</td>\n",
       "      <td>5.2</td>\n",
       "    </tr>\n",
       "    <tr>\n",
       "      <th>8</th>\n",
       "      <td>6.9</td>\n",
       "      <td>4.0</td>\n",
       "    </tr>\n",
       "    <tr>\n",
       "      <th>9</th>\n",
       "      <td>7.5</td>\n",
       "      <td>4.7</td>\n",
       "    </tr>\n",
       "  </tbody>\n",
       "</table>\n",
       "</div>"
      ],
      "text/plain": [
       "   students1  students2\n",
       "0        7.1        5.0\n",
       "1        7.9        4.5\n",
       "2        6.3        4.0\n",
       "3        7.0        5.3\n",
       "4        8.2        5.4\n",
       "5        7.2        5.9\n",
       "6        6.0        4.3\n",
       "7        7.6        5.2\n",
       "8        6.9        4.0\n",
       "9        7.5        4.7"
      ]
     },
     "metadata": {},
     "output_type": "display_data"
    }
   ],
   "source": [
    "data = list(zip(students1, students2))\n",
    "df = pd.DataFrame(data, columns=['students1','students2'])\n",
    "display(df)"
   ]
  },
  {
   "cell_type": "code",
   "execution_count": 4,
   "id": "7a79e870",
   "metadata": {},
   "outputs": [
    {
     "data": {
      "text/html": [
       "<div>\n",
       "<style scoped>\n",
       "    .dataframe tbody tr th:only-of-type {\n",
       "        vertical-align: middle;\n",
       "    }\n",
       "\n",
       "    .dataframe tbody tr th {\n",
       "        vertical-align: top;\n",
       "    }\n",
       "\n",
       "    .dataframe thead th {\n",
       "        text-align: right;\n",
       "    }\n",
       "</style>\n",
       "<table border=\"1\" class=\"dataframe\">\n",
       "  <thead>\n",
       "    <tr style=\"text-align: right;\">\n",
       "      <th></th>\n",
       "      <th>students#</th>\n",
       "      <th>grade</th>\n",
       "    </tr>\n",
       "  </thead>\n",
       "  <tbody>\n",
       "    <tr>\n",
       "      <th>0</th>\n",
       "      <td>students1</td>\n",
       "      <td>7.1</td>\n",
       "    </tr>\n",
       "    <tr>\n",
       "      <th>1</th>\n",
       "      <td>students1</td>\n",
       "      <td>7.9</td>\n",
       "    </tr>\n",
       "    <tr>\n",
       "      <th>2</th>\n",
       "      <td>students1</td>\n",
       "      <td>6.3</td>\n",
       "    </tr>\n",
       "    <tr>\n",
       "      <th>3</th>\n",
       "      <td>students1</td>\n",
       "      <td>7.0</td>\n",
       "    </tr>\n",
       "    <tr>\n",
       "      <th>4</th>\n",
       "      <td>students1</td>\n",
       "      <td>8.2</td>\n",
       "    </tr>\n",
       "    <tr>\n",
       "      <th>5</th>\n",
       "      <td>students1</td>\n",
       "      <td>7.2</td>\n",
       "    </tr>\n",
       "    <tr>\n",
       "      <th>6</th>\n",
       "      <td>students1</td>\n",
       "      <td>6.0</td>\n",
       "    </tr>\n",
       "    <tr>\n",
       "      <th>7</th>\n",
       "      <td>students1</td>\n",
       "      <td>7.6</td>\n",
       "    </tr>\n",
       "    <tr>\n",
       "      <th>8</th>\n",
       "      <td>students1</td>\n",
       "      <td>6.9</td>\n",
       "    </tr>\n",
       "    <tr>\n",
       "      <th>9</th>\n",
       "      <td>students1</td>\n",
       "      <td>7.5</td>\n",
       "    </tr>\n",
       "    <tr>\n",
       "      <th>10</th>\n",
       "      <td>students2</td>\n",
       "      <td>5.0</td>\n",
       "    </tr>\n",
       "    <tr>\n",
       "      <th>11</th>\n",
       "      <td>students2</td>\n",
       "      <td>4.5</td>\n",
       "    </tr>\n",
       "    <tr>\n",
       "      <th>12</th>\n",
       "      <td>students2</td>\n",
       "      <td>4.0</td>\n",
       "    </tr>\n",
       "    <tr>\n",
       "      <th>13</th>\n",
       "      <td>students2</td>\n",
       "      <td>5.3</td>\n",
       "    </tr>\n",
       "    <tr>\n",
       "      <th>14</th>\n",
       "      <td>students2</td>\n",
       "      <td>5.4</td>\n",
       "    </tr>\n",
       "    <tr>\n",
       "      <th>15</th>\n",
       "      <td>students2</td>\n",
       "      <td>5.9</td>\n",
       "    </tr>\n",
       "    <tr>\n",
       "      <th>16</th>\n",
       "      <td>students2</td>\n",
       "      <td>4.3</td>\n",
       "    </tr>\n",
       "    <tr>\n",
       "      <th>17</th>\n",
       "      <td>students2</td>\n",
       "      <td>5.2</td>\n",
       "    </tr>\n",
       "    <tr>\n",
       "      <th>18</th>\n",
       "      <td>students2</td>\n",
       "      <td>4.0</td>\n",
       "    </tr>\n",
       "    <tr>\n",
       "      <th>19</th>\n",
       "      <td>students2</td>\n",
       "      <td>4.7</td>\n",
       "    </tr>\n",
       "  </tbody>\n",
       "</table>\n",
       "</div>"
      ],
      "text/plain": [
       "    students#  grade\n",
       "0   students1    7.1\n",
       "1   students1    7.9\n",
       "2   students1    6.3\n",
       "3   students1    7.0\n",
       "4   students1    8.2\n",
       "5   students1    7.2\n",
       "6   students1    6.0\n",
       "7   students1    7.6\n",
       "8   students1    6.9\n",
       "9   students1    7.5\n",
       "10  students2    5.0\n",
       "11  students2    4.5\n",
       "12  students2    4.0\n",
       "13  students2    5.3\n",
       "14  students2    5.4\n",
       "15  students2    5.9\n",
       "16  students2    4.3\n",
       "17  students2    5.2\n",
       "18  students2    4.0\n",
       "19  students2    4.7"
      ]
     },
     "metadata": {},
     "output_type": "display_data"
    }
   ],
   "source": [
    "tidy_df = pd.melt(df)\n",
    "tidy_df = tidy_df.rename(columns={'variable': 'students#', 'value': 'grade'})\n",
    "display(tidy_df)"
   ]
  },
  {
   "cell_type": "code",
   "execution_count": 5,
   "id": "37bab02e",
   "metadata": {},
   "outputs": [
    {
     "data": {
      "image/png": "[encoded data removed]",
      "text/plain": [
       "<Figure size 432x288 with 1 Axes>"
      ]
     },
     "metadata": {
      "needs_background": "light"
     },
     "output_type": "display_data"
    }
   ],
   "source": [
    "sns.boxplot(x = 'students#', y = 'grade', data = tidy_df)\n",
    "sns.set_style(\"whitegrid\")"
   ]
  },
  {
   "cell_type": "markdown",
   "id": "2c1349ec",
   "metadata": {},
   "source": [
    "## Rank-Sum"
   ]
  },
  {
   "cell_type": "code",
   "execution_count": 19,
   "id": "938951d8",
   "metadata": {},
   "outputs": [
    {
     "name": "stdout",
     "output_type": "stream",
     "text": [
      "RanksumsResult(statistic=3.779644730092272, pvalue=0.00015705228423075119)\n"
     ]
    }
   ],
   "source": [
    "res_ranksums = stats.ranksums(df['students1'], df['students2'])\n",
    "print(res_ranksums)"
   ]
  },
  {
   "cell_type": "markdown",
   "id": "c791df03",
   "metadata": {},
   "source": [
    "![pp](img/rank_sum.png)"
   ]
  },
  {
   "cell_type": "markdown",
   "id": "e8b3f86f",
   "metadata": {},
   "source": [
    "Conclusie: Deze waarde (3,78) moet met -1 vermenigvuldigd worden. Je test immers of groep 1 hogere cijfers geeft dan groep 2 en test vervolgens of $Z$ < $Z_{krit}$. Dan dus met -1 vermenigvuldigen. Dus -3,78 klopt met de Z-waarde uit de Powerpoint (-3,78)"
   ]
  },
  {
   "cell_type": "markdown",
   "id": "b668274a",
   "metadata": {},
   "source": [
    "## Mann-Whitney U"
   ]
  },
  {
   "cell_type": "code",
   "execution_count": 20,
   "id": "4f9fd46c",
   "metadata": {},
   "outputs": [
    {
     "name": "stdout",
     "output_type": "stream",
     "text": [
      "MannwhitneyuResult(statistic=100.0, pvalue=0.00018165114609146497)\n"
     ]
    }
   ],
   "source": [
    "res_mann_whitney = stats.mannwhitneyu(df['students1'], df['students2'])\n",
    "print(res_mann_whitney)"
   ]
  },
  {
   "cell_type": "markdown",
   "id": "204bfebf",
   "metadata": {},
   "source": [
    "![pp](img/mann_whitneyu.png)"
   ]
  },
  {
   "cell_type": "markdown",
   "id": "d1213ec6",
   "metadata": {},
   "source": [
    "Conclusie: Deze waarde (100) klopt met waarde Powerpoint (100)."
   ]
  },
  {
   "cell_type": "markdown",
   "id": "b89115f2",
   "metadata": {},
   "source": [
    "---"
   ]
  }
 ],
 "metadata": {
  "kernelspec": {
   "display_name": "Python 3 (ipykernel)",
   "language": "python",
   "name": "python3"
  },
  "language_info": {
   "codemirror_mode": {
    "name": "ipython",
    "version": 3
   },
   "file_extension": ".py",
   "mimetype": "text/x-python",
   "name": "python",
   "nbconvert_exporter": "python",
   "pygments_lexer": "ipython3",
   "version": "3.9.12"
  }
 },
 "nbformat": 4,
 "nbformat_minor": 5
}
